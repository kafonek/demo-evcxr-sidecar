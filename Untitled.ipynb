{
 "cells": [
  {
   "cell_type": "code",
   "execution_count": 1,
   "id": "785fc2e0-f71a-4971-9b0e-6ba7fa3053b1",
   "metadata": {},
   "outputs": [
    {
     "data": {
      "text/plain": [
       "'0.5.5'"
      ]
     },
     "execution_count": 1,
     "metadata": {},
     "output_type": "execute_result"
    }
   ],
   "source": [
    "import kernel_sidecar\n",
    "kernel_sidecar.__version__"
   ]
  },
  {
   "cell_type": "code",
   "execution_count": 2,
   "id": "591dda86-26f4-4f0b-9732-2e16fb9db282",
   "metadata": {},
   "outputs": [
    {
     "data": {
      "text/plain": [
       "{'transport': 'tcp',\n",
       " 'signature_scheme': 'hmac-sha256',\n",
       " 'key': 'd3bafc903c6e4efc961f0223cd1d9cc1',\n",
       " 'session': None,\n",
       " 'shell_port': 50001,\n",
       " 'stdin_port': 50002,\n",
       " 'iopub_port': 50003,\n",
       " 'hb_port': 50004,\n",
       " 'control_port': 50005,\n",
       " 'ip': '0.0.0.0',\n",
       " 'kernel_name': 'rust-1.70'}"
      ]
     },
     "execution_count": 2,
     "metadata": {},
     "output_type": "execute_result"
    }
   ],
   "source": [
    "import json\n",
    "connection_info = json.loads(open('conn.json').read())\n",
    "connection_info"
   ]
  },
  {
   "cell_type": "code",
   "execution_count": 3,
   "id": "82e5cd33-c88d-411d-9606-8b24227b298e",
   "metadata": {},
   "outputs": [],
   "source": [
    "from kernel_sidecar.client import KernelSidecarClient\n",
    "from kernel_sidecar.handlers.debug import DebugHandler\n",
    "\n",
    "async with KernelSidecarClient(connection_info) as client:\n",
    "    handler = DebugHandler()\n",
    "    action = client.kernel_info_request(handlers=[handler])\n",
    "    await action"
   ]
  },
  {
   "cell_type": "code",
   "execution_count": 4,
   "id": "70c85c77-765a-4908-abde-8d84d960087c",
   "metadata": {},
   "outputs": [
    {
     "data": {
      "text/plain": [
       "defaultdict(int, {'status': 2, 'kernel_info_reply': 1})"
      ]
     },
     "execution_count": 4,
     "metadata": {},
     "output_type": "execute_result"
    }
   ],
   "source": [
    "handler.counts"
   ]
  },
  {
   "cell_type": "code",
   "execution_count": 5,
   "id": "2fd371e1-f5e8-44e1-96b3-ab97d6375ecf",
   "metadata": {},
   "outputs": [],
   "source": [
    "from kernel_sidecar.log_utils import setup_logging\n",
    "setup_logging()"
   ]
  },
  {
   "cell_type": "code",
   "execution_count": 6,
   "id": "4b39dc57-49fd-4589-b2a1-76a74c355cec",
   "metadata": {},
   "outputs": [],
   "source": [
    "async with KernelSidecarClient(connection_info) as client:\n",
    "    await client.kernel_info_request()"
   ]
  },
  {
   "cell_type": "code",
   "execution_count": 7,
   "id": "d004f3ee-c91a-4866-9763-b8984b98892e",
   "metadata": {},
   "outputs": [
    {
     "data": {
      "text/plain": [
       "<kernel_sidecar.nb_builder.SimpleOutputHandler at 0x7ff0246ac220>"
      ]
     },
     "execution_count": 7,
     "metadata": {},
     "output_type": "execute_result"
    }
   ],
   "source": [
    "from kernel_sidecar.nb_builder import NotebookBuilder, SimpleOutputHandler\n",
    "from kernel_sidecar.models.notebook import Notebook, CodeCell\n",
    "\n",
    "cell = CodeCell(id='1', source='println!(\"Hello Rust\")')\n",
    "nb = Notebook(cells=[cell])\n",
    "builder = NotebookBuilder(nb)\n",
    "\n",
    "\n",
    "async with KernelSidecarClient(connection_info) as client:\n",
    "    handler = SimpleOutputHandler(client, cell.id, builder)\n",
    "    await client.execute_request(code=cell.source, handlers=[handler])\n",
    "\n",
    "handler"
   ]
  },
  {
   "cell_type": "code",
   "execution_count": 8,
   "id": "cce45dea-c804-45c9-adac-68c2b18c8d86",
   "metadata": {},
   "outputs": [
    {
     "data": {
      "text/plain": [
       "Notebook(nbformat=4, nbformat_minor=5, metadata={}, cells=[CodeCell(id='1', source='println!(\"Hello Rust\")', metadata={}, cell_type='code', execution_count=7, outputs=[StreamContent(output_type='stream', name='stdout', text='Hello Rust\\n'), ExecuteResultContent(output_type='execute_result', execution_count=7, data={'text/plain': '()'}, metadata={})])])"
      ]
     },
     "execution_count": 8,
     "metadata": {},
     "output_type": "execute_result"
    }
   ],
   "source": [
    "builder.nb"
   ]
  },
  {
   "cell_type": "code",
   "execution_count": 9,
   "id": "39879032-5fa1-4ff9-a97f-5363a9d6f5ce",
   "metadata": {},
   "outputs": [
    {
     "name": "stdout",
     "output_type": "stream",
     "text": [
      "{'cells': [{'cell_type': 'code',\n",
      "            'execution_count': 7,\n",
      "            'id': '1',\n",
      "            'metadata': {},\n",
      "            'outputs': [{'name': 'stdout',\n",
      "                         'output_type': 'stream',\n",
      "                         'text': 'Hello Rust\\n'},\n",
      "                        {'data': {'text/plain': '()'},\n",
      "                         'execution_count': 7,\n",
      "                         'metadata': {},\n",
      "                         'output_type': 'execute_result'}],\n",
      "            'source': 'println!(\"Hello Rust\")'}],\n",
      " 'metadata': {},\n",
      " 'nbformat': 4,\n",
      " 'nbformat_minor': 5}\n"
     ]
    }
   ],
   "source": [
    "import pprint\n",
    "pprint.pprint(builder.nb.dict())"
   ]
  },
  {
   "cell_type": "code",
   "execution_count": null,
   "id": "c707c714-fd3c-4f71-8a79-877b960a4662",
   "metadata": {},
   "outputs": [],
   "source": []
  }
 ],
 "metadata": {
  "kernelspec": {
   "display_name": "Python 3 (ipykernel)",
   "language": "python",
   "name": "python3"
  },
  "language_info": {
   "codemirror_mode": {
    "name": "ipython",
    "version": 3
   },
   "file_extension": ".py",
   "mimetype": "text/x-python",
   "name": "python",
   "nbconvert_exporter": "python",
   "pygments_lexer": "ipython3",
   "version": "3.10.8"
  }
 },
 "nbformat": 4,
 "nbformat_minor": 5
}
