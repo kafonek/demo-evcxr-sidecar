{
 "cells": [
  {
   "cell_type": "code",
   "execution_count": 1,
   "id": "785fc2e0-f71a-4971-9b0e-6ba7fa3053b1",
   "metadata": {},
   "outputs": [
    {
     "data": {
      "text/plain": [
       "'0.5.5'"
      ]
     },
     "execution_count": 1,
     "metadata": {},
     "output_type": "execute_result"
    }
   ],
   "source": [
    "import kernel_sidecar\n",
    "kernel_sidecar.__version__"
   ]
  },
  {
   "cell_type": "code",
   "execution_count": 2,
   "id": "591dda86-26f4-4f0b-9732-2e16fb9db282",
   "metadata": {},
   "outputs": [
    {
     "data": {
      "text/plain": [
       "{'transport': 'tcp',\n",
       " 'signature_scheme': 'hmac-sha256',\n",
       " 'key': 'd3bafc903c6e4efc961f0223cd1d9cc1',\n",
       " 'session': None,\n",
       " 'shell_port': 50001,\n",
       " 'stdin_port': 50002,\n",
       " 'iopub_port': 50003,\n",
       " 'hb_port': 50004,\n",
       " 'control_port': 50005,\n",
       " 'ip': '0.0.0.0',\n",
       " 'kernel_name': 'rust-1.70'}"
      ]
     },
     "execution_count": 2,
     "metadata": {},
     "output_type": "execute_result"
    }
   ],
   "source": [
    "import json\n",
    "connection_info = json.loads(open('conn.json').read())\n",
    "connection_info"
   ]
  },
  {
   "cell_type": "code",
   "execution_count": 3,
   "id": "82e5cd33-c88d-411d-9606-8b24227b298e",
   "metadata": {},
   "outputs": [],
   "source": [
    "# Example of sending kernel info request and seeing which messages come back over the wire\n",
    "# in this case status (kernel busy), kernel_info_reply, and status (kernel idle)\n",
    "from kernel_sidecar.client import KernelSidecarClient\n",
    "from kernel_sidecar.handlers.debug import DebugHandler\n",
    "\n",
    "async with KernelSidecarClient(connection_info) as client:\n",
    "    handler = DebugHandler()\n",
    "    action = client.kernel_info_request(handlers=[handler])\n",
    "    await action"
   ]
  },
  {
   "cell_type": "code",
   "execution_count": 4,
   "id": "70c85c77-765a-4908-abde-8d84d960087c",
   "metadata": {},
   "outputs": [
    {
     "data": {
      "text/plain": [
       "defaultdict(int, {'status': 2, 'kernel_info_reply': 1})"
      ]
     },
     "execution_count": 4,
     "metadata": {},
     "output_type": "execute_result"
    }
   ],
   "source": [
    "handler.counts"
   ]
  },
  {
   "cell_type": "code",
   "execution_count": 5,
   "id": "2fd371e1-f5e8-44e1-96b3-ab97d6375ecf",
   "metadata": {},
   "outputs": [],
   "source": [
    "# Turn on debug logs with structlog formatting for very verbose logging\n",
    "# Note: just setup_logging() is enough in regular python apps, but in Jupyter we need to\n",
    "# explicitly add a StreamHandler :man-shrugging:\n",
    "import logging\n",
    "logger = logging.getLogger('kernel_sidecar')\n",
    "logger.setLevel(logging.DEBUG)\n",
    "logger.addHandler(logging.StreamHandler())\n",
    "\n",
    "from kernel_sidecar.log_utils import setup_logging\n",
    "setup_logging()"
   ]
  },
  {
   "cell_type": "code",
   "execution_count": 6,
   "id": "4b39dc57-49fd-4589-b2a1-76a74c355cec",
   "metadata": {},
   "outputs": [
    {
     "name": "stderr",
     "output_type": "stream",
     "text": [
      "Sent kernel_info_request to kernel\n"
     ]
    },
    {
     "name": "stdout",
     "output_type": "stream",
     "text": [
      "\u001b[2m2023-09-05T19:53:34.087302Z\u001b[0m [\u001b[32m\u001b[1mdebug    \u001b[0m] \u001b[1mSent kernel_info_request to kernel\u001b[0m [\u001b[34m\u001b[1mkernel_sidecar.client\u001b[0m] \u001b[36mfilename\u001b[0m=\u001b[35mclient.py\u001b[0m \u001b[36mfunc_name\u001b[0m=\u001b[35msend\u001b[0m \u001b[36mlineno\u001b[0m=\u001b[35m184\u001b[0m \u001b[36mmessage\u001b[0m=\u001b[35mSent kernel_info_request to kernel\u001b[0m\n"
     ]
    },
    {
     "name": "stderr",
     "output_type": "stream",
     "text": [
      "Channel watcher started\n"
     ]
    },
    {
     "name": "stdout",
     "output_type": "stream",
     "text": [
      "\u001b[2m2023-09-05T19:53:34.089671Z\u001b[0m [\u001b[32m\u001b[1mdebug    \u001b[0m] \u001b[1mChannel watcher started       \u001b[0m [\u001b[34m\u001b[1mkernel_sidecar.client\u001b[0m] \u001b[36mchannel\u001b[0m=\u001b[35miopub\u001b[0m \u001b[36mfilename\u001b[0m=\u001b[35mclient.py\u001b[0m \u001b[36mfunc_name\u001b[0m=\u001b[35mwatch_channel\u001b[0m \u001b[36mlineno\u001b[0m=\u001b[35m312\u001b[0m \u001b[36mmessage\u001b[0m=\u001b[35mChannel watcher started\u001b[0m\n"
     ]
    },
    {
     "name": "stderr",
     "output_type": "stream",
     "text": [
      "Channel watcher started\n"
     ]
    },
    {
     "name": "stdout",
     "output_type": "stream",
     "text": [
      "\u001b[2m2023-09-05T19:53:34.092581Z\u001b[0m [\u001b[32m\u001b[1mdebug    \u001b[0m] \u001b[1mChannel watcher started       \u001b[0m [\u001b[34m\u001b[1mkernel_sidecar.client\u001b[0m] \u001b[36mchannel\u001b[0m=\u001b[35mshell\u001b[0m \u001b[36mfilename\u001b[0m=\u001b[35mclient.py\u001b[0m \u001b[36mfunc_name\u001b[0m=\u001b[35mwatch_channel\u001b[0m \u001b[36mlineno\u001b[0m=\u001b[35m312\u001b[0m \u001b[36mmessage\u001b[0m=\u001b[35mChannel watcher started\u001b[0m\n"
     ]
    },
    {
     "name": "stderr",
     "output_type": "stream",
     "text": [
      "Channel watcher started\n"
     ]
    },
    {
     "name": "stdout",
     "output_type": "stream",
     "text": [
      "\u001b[2m2023-09-05T19:53:34.095340Z\u001b[0m [\u001b[32m\u001b[1mdebug    \u001b[0m] \u001b[1mChannel watcher started       \u001b[0m [\u001b[34m\u001b[1mkernel_sidecar.client\u001b[0m] \u001b[36mchannel\u001b[0m=\u001b[35mcontrol\u001b[0m \u001b[36mfilename\u001b[0m=\u001b[35mclient.py\u001b[0m \u001b[36mfunc_name\u001b[0m=\u001b[35mwatch_channel\u001b[0m \u001b[36mlineno\u001b[0m=\u001b[35m312\u001b[0m \u001b[36mmessage\u001b[0m=\u001b[35mChannel watcher started\u001b[0m\n"
     ]
    },
    {
     "name": "stderr",
     "output_type": "stream",
     "text": [
      "Channel watcher started\n"
     ]
    },
    {
     "name": "stdout",
     "output_type": "stream",
     "text": [
      "\u001b[2m2023-09-05T19:53:34.097577Z\u001b[0m [\u001b[32m\u001b[1mdebug    \u001b[0m] \u001b[1mChannel watcher started       \u001b[0m [\u001b[34m\u001b[1mkernel_sidecar.client\u001b[0m] \u001b[36mchannel\u001b[0m=\u001b[35mstdin\u001b[0m \u001b[36mfilename\u001b[0m=\u001b[35mclient.py\u001b[0m \u001b[36mfunc_name\u001b[0m=\u001b[35mwatch_channel\u001b[0m \u001b[36mlineno\u001b[0m=\u001b[35m312\u001b[0m \u001b[36mmessage\u001b[0m=\u001b[35mChannel watcher started\u001b[0m\n"
     ]
    },
    {
     "name": "stderr",
     "output_type": "stream",
     "text": [
      "Message status on iopub\n"
     ]
    },
    {
     "name": "stdout",
     "output_type": "stream",
     "text": [
      "\u001b[2m2023-09-05T19:53:34.104915Z\u001b[0m [\u001b[32m\u001b[1mdebug    \u001b[0m] \u001b[1mMessage status on iopub       \u001b[0m [\u001b[34m\u001b[1mkernel_sidecar.client\u001b[0m] \u001b[36mchannel\u001b[0m=\u001b[35miopub\u001b[0m \u001b[36mfilename\u001b[0m=\u001b[35mclient.py\u001b[0m \u001b[36mfunc_name\u001b[0m=\u001b[35m_watch_channel_for_messages\u001b[0m \u001b[36mlineno\u001b[0m=\u001b[35m398\u001b[0m \u001b[36mmessage\u001b[0m=\u001b[35mMessage status on iopub\u001b[0m\n"
     ]
    },
    {
     "name": "stderr",
     "output_type": "stream",
     "text": [
      "Message kernel_info_reply on shell\n"
     ]
    },
    {
     "name": "stdout",
     "output_type": "stream",
     "text": [
      "\u001b[2m2023-09-05T19:53:34.108276Z\u001b[0m [\u001b[32m\u001b[1mdebug    \u001b[0m] \u001b[1mMessage kernel_info_reply on shell\u001b[0m [\u001b[34m\u001b[1mkernel_sidecar.client\u001b[0m] \u001b[36mchannel\u001b[0m=\u001b[35mshell\u001b[0m \u001b[36mfilename\u001b[0m=\u001b[35mclient.py\u001b[0m \u001b[36mfunc_name\u001b[0m=\u001b[35m_watch_channel_for_messages\u001b[0m \u001b[36mlineno\u001b[0m=\u001b[35m398\u001b[0m \u001b[36mmessage\u001b[0m=\u001b[35mMessage kernel_info_reply on shell\u001b[0m\n"
     ]
    },
    {
     "name": "stderr",
     "output_type": "stream",
     "text": [
      "Message status on iopub\n"
     ]
    },
    {
     "name": "stdout",
     "output_type": "stream",
     "text": [
      "\u001b[2m2023-09-05T19:53:34.112039Z\u001b[0m [\u001b[32m\u001b[1mdebug    \u001b[0m] \u001b[1mMessage status on iopub       \u001b[0m [\u001b[34m\u001b[1mkernel_sidecar.client\u001b[0m] \u001b[36mchannel\u001b[0m=\u001b[35miopub\u001b[0m \u001b[36mfilename\u001b[0m=\u001b[35mclient.py\u001b[0m \u001b[36mfunc_name\u001b[0m=\u001b[35m_watch_channel_for_messages\u001b[0m \u001b[36mlineno\u001b[0m=\u001b[35m398\u001b[0m \u001b[36mmessage\u001b[0m=\u001b[35mMessage status on iopub\u001b[0m\n"
     ]
    }
   ],
   "source": [
    "async with KernelSidecarClient(connection_info) as client:\n",
    "    await client.kernel_info_request()"
   ]
  },
  {
   "cell_type": "code",
   "execution_count": 7,
   "id": "d004f3ee-c91a-4866-9763-b8984b98892e",
   "metadata": {},
   "outputs": [
    {
     "name": "stderr",
     "output_type": "stream",
     "text": [
      "Sent execute_request to kernel\n"
     ]
    },
    {
     "name": "stdout",
     "output_type": "stream",
     "text": [
      "\u001b[2m2023-09-05T19:53:34.152771Z\u001b[0m [\u001b[32m\u001b[1mdebug    \u001b[0m] \u001b[1mSent execute_request to kernel\u001b[0m [\u001b[34m\u001b[1mkernel_sidecar.client\u001b[0m] \u001b[36mfilename\u001b[0m=\u001b[35mclient.py\u001b[0m \u001b[36mfunc_name\u001b[0m=\u001b[35msend\u001b[0m \u001b[36mlineno\u001b[0m=\u001b[35m184\u001b[0m \u001b[36mmessage\u001b[0m=\u001b[35mSent execute_request to kernel\u001b[0m\n"
     ]
    },
    {
     "name": "stderr",
     "output_type": "stream",
     "text": [
      "Channel watcher started\n"
     ]
    },
    {
     "name": "stdout",
     "output_type": "stream",
     "text": [
      "\u001b[2m2023-09-05T19:53:34.154861Z\u001b[0m [\u001b[32m\u001b[1mdebug    \u001b[0m] \u001b[1mChannel watcher started       \u001b[0m [\u001b[34m\u001b[1mkernel_sidecar.client\u001b[0m] \u001b[36mchannel\u001b[0m=\u001b[35miopub\u001b[0m \u001b[36mfilename\u001b[0m=\u001b[35mclient.py\u001b[0m \u001b[36mfunc_name\u001b[0m=\u001b[35mwatch_channel\u001b[0m \u001b[36mlineno\u001b[0m=\u001b[35m312\u001b[0m \u001b[36mmessage\u001b[0m=\u001b[35mChannel watcher started\u001b[0m\n"
     ]
    },
    {
     "name": "stderr",
     "output_type": "stream",
     "text": [
      "Channel watcher started\n"
     ]
    },
    {
     "name": "stdout",
     "output_type": "stream",
     "text": [
      "\u001b[2m2023-09-05T19:53:34.157172Z\u001b[0m [\u001b[32m\u001b[1mdebug    \u001b[0m] \u001b[1mChannel watcher started       \u001b[0m [\u001b[34m\u001b[1mkernel_sidecar.client\u001b[0m] \u001b[36mchannel\u001b[0m=\u001b[35mshell\u001b[0m \u001b[36mfilename\u001b[0m=\u001b[35mclient.py\u001b[0m \u001b[36mfunc_name\u001b[0m=\u001b[35mwatch_channel\u001b[0m \u001b[36mlineno\u001b[0m=\u001b[35m312\u001b[0m \u001b[36mmessage\u001b[0m=\u001b[35mChannel watcher started\u001b[0m\n"
     ]
    },
    {
     "name": "stderr",
     "output_type": "stream",
     "text": [
      "Channel watcher started\n"
     ]
    },
    {
     "name": "stdout",
     "output_type": "stream",
     "text": [
      "\u001b[2m2023-09-05T19:53:34.159721Z\u001b[0m [\u001b[32m\u001b[1mdebug    \u001b[0m] \u001b[1mChannel watcher started       \u001b[0m [\u001b[34m\u001b[1mkernel_sidecar.client\u001b[0m] \u001b[36mchannel\u001b[0m=\u001b[35mcontrol\u001b[0m \u001b[36mfilename\u001b[0m=\u001b[35mclient.py\u001b[0m \u001b[36mfunc_name\u001b[0m=\u001b[35mwatch_channel\u001b[0m \u001b[36mlineno\u001b[0m=\u001b[35m312\u001b[0m \u001b[36mmessage\u001b[0m=\u001b[35mChannel watcher started\u001b[0m\n"
     ]
    },
    {
     "name": "stderr",
     "output_type": "stream",
     "text": [
      "Channel watcher started\n"
     ]
    },
    {
     "name": "stdout",
     "output_type": "stream",
     "text": [
      "\u001b[2m2023-09-05T19:53:34.162082Z\u001b[0m [\u001b[32m\u001b[1mdebug    \u001b[0m] \u001b[1mChannel watcher started       \u001b[0m [\u001b[34m\u001b[1mkernel_sidecar.client\u001b[0m] \u001b[36mchannel\u001b[0m=\u001b[35mstdin\u001b[0m \u001b[36mfilename\u001b[0m=\u001b[35mclient.py\u001b[0m \u001b[36mfunc_name\u001b[0m=\u001b[35mwatch_channel\u001b[0m \u001b[36mlineno\u001b[0m=\u001b[35m312\u001b[0m \u001b[36mmessage\u001b[0m=\u001b[35mChannel watcher started\u001b[0m\n"
     ]
    },
    {
     "name": "stderr",
     "output_type": "stream",
     "text": [
      "Message status on iopub\n"
     ]
    },
    {
     "name": "stdout",
     "output_type": "stream",
     "text": [
      "\u001b[2m2023-09-05T19:53:34.166655Z\u001b[0m [\u001b[32m\u001b[1mdebug    \u001b[0m] \u001b[1mMessage status on iopub       \u001b[0m [\u001b[34m\u001b[1mkernel_sidecar.client\u001b[0m] \u001b[36mchannel\u001b[0m=\u001b[35miopub\u001b[0m \u001b[36mfilename\u001b[0m=\u001b[35mclient.py\u001b[0m \u001b[36mfunc_name\u001b[0m=\u001b[35m_watch_channel_for_messages\u001b[0m \u001b[36mlineno\u001b[0m=\u001b[35m398\u001b[0m \u001b[36mmessage\u001b[0m=\u001b[35mMessage status on iopub\u001b[0m\n"
     ]
    },
    {
     "name": "stderr",
     "output_type": "stream",
     "text": [
      "Message execute_input on iopub\n"
     ]
    },
    {
     "name": "stdout",
     "output_type": "stream",
     "text": [
      "\u001b[2m2023-09-05T19:53:34.172796Z\u001b[0m [\u001b[32m\u001b[1mdebug    \u001b[0m] \u001b[1mMessage execute_input on iopub\u001b[0m [\u001b[34m\u001b[1mkernel_sidecar.client\u001b[0m] \u001b[36mchannel\u001b[0m=\u001b[35miopub\u001b[0m \u001b[36mfilename\u001b[0m=\u001b[35mclient.py\u001b[0m \u001b[36mfunc_name\u001b[0m=\u001b[35m_watch_channel_for_messages\u001b[0m \u001b[36mlineno\u001b[0m=\u001b[35m398\u001b[0m \u001b[36mmessage\u001b[0m=\u001b[35mMessage execute_input on iopub\u001b[0m\n"
     ]
    },
    {
     "name": "stderr",
     "output_type": "stream",
     "text": [
      "Message stream on iopub\n"
     ]
    },
    {
     "name": "stdout",
     "output_type": "stream",
     "text": [
      "\u001b[2m2023-09-05T19:53:34.507615Z\u001b[0m [\u001b[32m\u001b[1mdebug    \u001b[0m] \u001b[1mMessage stream on iopub       \u001b[0m [\u001b[34m\u001b[1mkernel_sidecar.client\u001b[0m] \u001b[36mchannel\u001b[0m=\u001b[35miopub\u001b[0m \u001b[36mfilename\u001b[0m=\u001b[35mclient.py\u001b[0m \u001b[36mfunc_name\u001b[0m=\u001b[35m_watch_channel_for_messages\u001b[0m \u001b[36mlineno\u001b[0m=\u001b[35m398\u001b[0m \u001b[36mmessage\u001b[0m=\u001b[35mMessage stream on iopub\u001b[0m\n"
     ]
    },
    {
     "name": "stderr",
     "output_type": "stream",
     "text": [
      "Message execute_result on iopub\n"
     ]
    },
    {
     "name": "stdout",
     "output_type": "stream",
     "text": [
      "\u001b[2m2023-09-05T19:53:34.510440Z\u001b[0m [\u001b[32m\u001b[1mdebug    \u001b[0m] \u001b[1mMessage execute_result on iopub\u001b[0m [\u001b[34m\u001b[1mkernel_sidecar.client\u001b[0m] \u001b[36mchannel\u001b[0m=\u001b[35miopub\u001b[0m \u001b[36mfilename\u001b[0m=\u001b[35mclient.py\u001b[0m \u001b[36mfunc_name\u001b[0m=\u001b[35m_watch_channel_for_messages\u001b[0m \u001b[36mlineno\u001b[0m=\u001b[35m398\u001b[0m \u001b[36mmessage\u001b[0m=\u001b[35mMessage execute_result on iopub\u001b[0m\n"
     ]
    },
    {
     "name": "stderr",
     "output_type": "stream",
     "text": [
      "Message execute_reply on shell\n"
     ]
    },
    {
     "name": "stdout",
     "output_type": "stream",
     "text": [
      "\u001b[2m2023-09-05T19:53:34.514886Z\u001b[0m [\u001b[32m\u001b[1mdebug    \u001b[0m] \u001b[1mMessage execute_reply on shell\u001b[0m [\u001b[34m\u001b[1mkernel_sidecar.client\u001b[0m] \u001b[36mchannel\u001b[0m=\u001b[35mshell\u001b[0m \u001b[36mfilename\u001b[0m=\u001b[35mclient.py\u001b[0m \u001b[36mfunc_name\u001b[0m=\u001b[35m_watch_channel_for_messages\u001b[0m \u001b[36mlineno\u001b[0m=\u001b[35m398\u001b[0m \u001b[36mmessage\u001b[0m=\u001b[35mMessage execute_reply on shell\u001b[0m\n"
     ]
    },
    {
     "name": "stderr",
     "output_type": "stream",
     "text": [
      "Message status on iopub\n"
     ]
    },
    {
     "name": "stdout",
     "output_type": "stream",
     "text": [
      "\u001b[2m2023-09-05T19:53:34.517887Z\u001b[0m [\u001b[32m\u001b[1mdebug    \u001b[0m] \u001b[1mMessage status on iopub       \u001b[0m [\u001b[34m\u001b[1mkernel_sidecar.client\u001b[0m] \u001b[36mchannel\u001b[0m=\u001b[35miopub\u001b[0m \u001b[36mfilename\u001b[0m=\u001b[35mclient.py\u001b[0m \u001b[36mfunc_name\u001b[0m=\u001b[35m_watch_channel_for_messages\u001b[0m \u001b[36mlineno\u001b[0m=\u001b[35m398\u001b[0m \u001b[36mmessage\u001b[0m=\u001b[35mMessage status on iopub\u001b[0m\n"
     ]
    },
    {
     "data": {
      "text/plain": [
       "<kernel_sidecar.nb_builder.SimpleOutputHandler at 0x7f1fe9d37ee0>"
      ]
     },
     "execution_count": 7,
     "metadata": {},
     "output_type": "execute_result"
    }
   ],
   "source": [
    "from kernel_sidecar.nb_builder import NotebookBuilder, SimpleOutputHandler\n",
    "from kernel_sidecar.models.notebook import Notebook, CodeCell\n",
    "\n",
    "cell = CodeCell(id='1', source='println!(\"Hello Rust\")')\n",
    "nb = Notebook(cells=[cell])\n",
    "builder = NotebookBuilder(nb)\n",
    "\n",
    "\n",
    "async with KernelSidecarClient(connection_info) as client:\n",
    "    handler = SimpleOutputHandler(client, cell.id, builder)\n",
    "    await client.execute_request(code=cell.source, handlers=[handler])\n",
    "\n",
    "handler"
   ]
  },
  {
   "cell_type": "code",
   "execution_count": 8,
   "id": "cce45dea-c804-45c9-adac-68c2b18c8d86",
   "metadata": {},
   "outputs": [
    {
     "data": {
      "text/plain": [
       "Notebook(nbformat=4, nbformat_minor=5, metadata={}, cells=[CodeCell(id='1', source='println!(\"Hello Rust\")', metadata={}, cell_type='code', execution_count=7, outputs=[StreamContent(output_type='stream', name='stdout', text='Hello Rust\\n'), ExecuteResultContent(output_type='execute_result', execution_count=7, data={'text/plain': '()'}, metadata={})])])"
      ]
     },
     "execution_count": 8,
     "metadata": {},
     "output_type": "execute_result"
    }
   ],
   "source": [
    "builder.nb"
   ]
  },
  {
   "cell_type": "code",
   "execution_count": 9,
   "id": "39879032-5fa1-4ff9-a97f-5363a9d6f5ce",
   "metadata": {},
   "outputs": [
    {
     "name": "stdout",
     "output_type": "stream",
     "text": [
      "{'cells': [{'cell_type': 'code',\n",
      "            'execution_count': 7,\n",
      "            'id': '1',\n",
      "            'metadata': {},\n",
      "            'outputs': [{'name': 'stdout',\n",
      "                         'output_type': 'stream',\n",
      "                         'text': 'Hello Rust\\n'},\n",
      "                        {'data': {'text/plain': '()'},\n",
      "                         'execution_count': 7,\n",
      "                         'metadata': {},\n",
      "                         'output_type': 'execute_result'}],\n",
      "            'source': 'println!(\"Hello Rust\")'}],\n",
      " 'metadata': {},\n",
      " 'nbformat': 4,\n",
      " 'nbformat_minor': 5}\n"
     ]
    }
   ],
   "source": [
    "import pprint\n",
    "pprint.pprint(builder.nb.dict())"
   ]
  },
  {
   "cell_type": "code",
   "execution_count": null,
   "id": "c707c714-fd3c-4f71-8a79-877b960a4662",
   "metadata": {},
   "outputs": [],
   "source": []
  }
 ],
 "metadata": {
  "kernelspec": {
   "display_name": "Python 3 (ipykernel)",
   "language": "python",
   "name": "python3"
  },
  "language_info": {
   "codemirror_mode": {
    "name": "ipython",
    "version": 3
   },
   "file_extension": ".py",
   "mimetype": "text/x-python",
   "name": "python",
   "nbconvert_exporter": "python",
   "pygments_lexer": "ipython3",
   "version": "3.10.8"
  }
 },
 "nbformat": 4,
 "nbformat_minor": 5
}
